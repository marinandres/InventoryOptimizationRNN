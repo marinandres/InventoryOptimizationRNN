{
 "cells": [
  {
   "cell_type": "code",
   "execution_count": 2,
   "id": "f417ddca-5345-4c3b-8264-5d57ca0311e5",
   "metadata": {},
   "outputs": [],
   "source": [
    "import pandas as pd\n",
    "import numpy as np\n",
    "import openpyxl\n",
    "\n",
    "# The main use of openpyxl is to open the excel file that also contain macros on it."
   ]
  },
  {
   "cell_type": "code",
   "execution_count": null,
   "id": "ca862bf1",
   "metadata": {},
   "outputs": [],
   "source": [
    "df = pd.read_excel(\"Sales.xlsm\", sheet_name=\"Ventas\")"
   ]
  },
  {
   "cell_type": "code",
   "execution_count": 36,
   "id": "ca93e42a",
   "metadata": {},
   "outputs": [],
   "source": [
    "dict_column = {\n",
    "    \"Fecha de la Factura\": \"date\",\n",
    "    \"Mes\": \"month\",\n",
    "    \"Ano\": \"year\",\n",
    "    \"Area de Negocio\": \"business\",\n",
    "    \"Tipo_Articulo\": \"category\",\n",
    "    \"Descripción\": \"item_description\",\n",
    "    \"Tipo de Documento\": \"document\",\n",
    "    \"No.\": \"document_ID\",\n",
    "    \"Cliente\": \"client_name\",\n",
    "    \"Empaque\": \"packaging\",\n",
    "    \"Costo Unitario USD\": \"unit_cost\",\n",
    "    \"Cantidad\": \"sold_quantity\",\n",
    "    \"Costo Total\": \"total_cost\",\n",
    "    \"Precio de Venta\": \"unit_price\",\n",
    "    \"Sub-Total\": \"total_sale_price\",\n",
    "    \"Flete\": \"delivery_price\",\n",
    "    \"Utilidad Gross\": \"gross_profit\",\n",
    "    \"7%\": \"total_taxes\",\n",
    "    \"ITBMS Retenido x Cliente\": \"total_tax_retention\",\n",
    "    \"C x C USD\": \"current_balance\",\n",
    "    \"Cancelado\": \"amount_paid\",\n",
    "    \"Fecha de Pago\": \"payment_dates\",\n",
    "    \"% Utili./Vtas\": \"gross_profit_percentage\",\n",
    "    \"Comentarios\": \"commments\",\n",
    "    \"R.U.C\": \"company_ID\",\n",
    "    \"Direccion\": \"address\",\n",
    "    \"Telefono\": \"phone\",\n",
    "    \"Canal\": \"sales_channel\" \n",
    "}\n",
    "\n",
    "df.rename(columns=dict_column, inplace=True)\n",
    "\n",
    "df[\"client_name\"] = df[\"client_name\"].astype(str)"
   ]
  },
  {
   "cell_type": "code",
   "execution_count": null,
   "id": "1e67261d",
   "metadata": {},
   "outputs": [],
   "source": [
    "client_name = df[\"client_name\"].unique()\n",
    "for value in sorted(client_name):\n",
    "    print(value)\n",
    "\n",
    "# Next steps is to assign an ID for each client to remain privacy."
   ]
  }
 ],
 "metadata": {
  "kernelspec": {
   "display_name": "Python 3",
   "language": "python",
   "name": "python3"
  },
  "language_info": {
   "codemirror_mode": {
    "name": "ipython",
    "version": 3
   },
   "file_extension": ".py",
   "mimetype": "text/x-python",
   "name": "python",
   "nbconvert_exporter": "python",
   "pygments_lexer": "ipython3",
   "version": "3.11.5"
  }
 },
 "nbformat": 4,
 "nbformat_minor": 5
}
